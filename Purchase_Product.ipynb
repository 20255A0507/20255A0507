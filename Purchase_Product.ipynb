{
  "nbformat": 4,
  "nbformat_minor": 0,
  "metadata": {
    "colab": {
      "name": "Purchase Product.ipynb",
      "provenance": [],
      "collapsed_sections": [],
      "authorship_tag": "ABX9TyOICPBf32CFKc2eMdSrqh4L",
      "include_colab_link": true
    },
    "kernelspec": {
      "name": "python3",
      "display_name": "Python 3"
    },
    "language_info": {
      "name": "python"
    }
  },
  "cells": [
    {
      "cell_type": "markdown",
      "metadata": {
        "id": "view-in-github",
        "colab_type": "text"
      },
      "source": [
        "<a href=\"https://colab.research.google.com/github/20255A0507/20255A0507/blob/main/Purchase_Product.ipynb\" target=\"_parent\"><img src=\"https://colab.research.google.com/assets/colab-badge.svg\" alt=\"Open In Colab\"/></a>"
      ]
    },
    {
      "cell_type": "markdown",
      "metadata": {
        "id": "M2FRvOyqZ12s"
      },
      "source": [
        "###**Creating a purchase file and inserting records in inventory ,Importing json package then dump the records in json file**"
      ]
    },
    {
      "cell_type": "code",
      "metadata": {
        "id": "julInE4qZgL3"
      },
      "source": [
        "import json\n",
        "\n",
        "record={101:{\"name\":\"colgate\",\"quantity\":150,\"price\":120},\n",
        "          102:{\"name\":\"mazza\",\"quantity\":200,\"price\":52},\n",
        "          103:{\"name\":\"dairy milk\",\"quantity\":300,\"price\":10},\n",
        "          104:{\"name\":\"bingo\",\"quantity\":450,\"price\":5},\n",
        "          105:{\"name\":\"fair lovely\",\"quantity\":150,\"price\":74},\n",
        "          106:{\"name\":\"All-out\",\"quantity\":210,\"price\":68},\n",
        "          107:{\"name\":\"badam milk\",\"quantity\":180,\"price\":25},\n",
        "          108:{\"name\":\"choco cake\",\"quantity\":500,\"price\":34},\n",
        "          109:{\"name\":\"kinder joy\",\"quantity\":345,\"price\":35},\n",
        "          110:{\"name\":\"gems\",\"quantity\":75,\"price\":30}\n",
        "}\n",
        "\n",
        "js=json.dumps(record)\n",
        "\n",
        "fd=open(\"purchase.json\",'r')\n",
        "r=fd.read()\n",
        "fd.close()\n",
        "record=json.loads(r)"
      ],
      "execution_count": 12,
      "outputs": []
    },
    {
      "cell_type": "markdown",
      "metadata": {
        "id": "5WlbgciNuJLS"
      },
      "source": [
        "###**Printing the list of products and their details:**"
      ]
    },
    {
      "cell_type": "code",
      "metadata": {
        "colab": {
          "base_uri": "https://localhost:8080/"
        },
        "id": "yjr5IB22ZsRp",
        "outputId": "d38c8577-365f-4143-f882-810209cf20cf"
      },
      "source": [
        "print('''*********welcome***********\n",
        "---------Produts--------''')\n",
        "record\n"
      ],
      "execution_count": 35,
      "outputs": [
        {
          "output_type": "stream",
          "name": "stdout",
          "text": [
            "*********welcome***********\n",
            "---------Produts--------\n"
          ]
        },
        {
          "output_type": "execute_result",
          "data": {
            "text/plain": [
              "{'101': {'name': 'colgate', 'price': 120, 'quantity': 147},\n",
              " '102': {'name': 'mazza', 'price': 52, 'quantity': 200},\n",
              " '103': {'name': 'dairy milk', 'price': 10, 'quantity': 300},\n",
              " '104': {'name': 'bingo', 'price': 5, 'quantity': 450},\n",
              " '105': {'name': 'fair lovely', 'price': 74, 'quantity': 150},\n",
              " '106': {'name': 'All-out', 'price': 68, 'quantity': 210},\n",
              " '107': {'name': 'badam milk', 'price': 25, 'quantity': 180},\n",
              " '108': {'name': 'choco cake', 'price': 34, 'quantity': 500},\n",
              " '109': {'name': 'kinder joy', 'price': 35, 'quantity': 345},\n",
              " '110': {'name': 'gems', 'price': 30, 'quantity': 75}}"
            ]
          },
          "metadata": {},
          "execution_count": 35
        }
      ]
    },
    {
      "cell_type": "markdown",
      "metadata": {
        "id": "PRvVV7mWZtDt"
      },
      "source": [
        "###**Purchasing a Product:**"
      ]
    },
    {
      "cell_type": "code",
      "metadata": {
        "colab": {
          "base_uri": "https://localhost:8080/"
        },
        "id": "pCD9gnmikWJ9",
        "outputId": "246a78ca-bb39-4a71-f744-14727e64c245"
      },
      "source": [
        "ui_prod  = str(input(\"Enter the product_Id: \"))\n",
        "ui_quant = int(input(\"Enter the quantity: \"))\n",
        "print(\"***************************************\")\n",
        "print(\"Product:\", record[ui_prod]['name'])\n",
        "print(\"Price: \", record[ui_prod]['price'])\n",
        "print(\"---------------------------------------\")\n",
        "print(\"Billing Amount: \", record[ui_prod]['price'] * ui_quant)\n",
        "print(\"***************************************\")\n",
        "record[ui_prod]['quantity'] = record[ui_prod]['quantity'] - ui_quant"
      ],
      "execution_count": 44,
      "outputs": [
        {
          "output_type": "stream",
          "name": "stdout",
          "text": [
            "Enter the product_Id: 101\n",
            "Enter the quantity: 3\n",
            "***************************************\n",
            "Product: colgate\n",
            "Price:  120\n",
            "---------------------------------------\n",
            "Billing Amount:  360\n",
            "***************************************\n"
          ]
        }
      ]
    },
    {
      "cell_type": "markdown",
      "metadata": {
        "id": "octNLYoyu2NY"
      },
      "source": [
        "###**Updating inventory after purchasing the product:**"
      ]
    },
    {
      "cell_type": "code",
      "metadata": {
        "id": "YUMV1rE3lzPL"
      },
      "source": [
        "js = json.dumps(record)\n",
        "\n",
        "fd = open(\"record.json\",'w')\n",
        "fd.write(js)\n",
        "fd.close()"
      ],
      "execution_count": 39,
      "outputs": []
    },
    {
      "cell_type": "markdown",
      "metadata": {
        "id": "BMz2DlRku1Sk"
      },
      "source": [
        "###**Details of Purchased Product:**"
      ]
    },
    {
      "cell_type": "code",
      "metadata": {
        "colab": {
          "base_uri": "https://localhost:8080/"
        },
        "id": "hrvV346CmLeS",
        "outputId": "c62314cc-6cb4-4eea-95a2-0c18dafa6e60"
      },
      "source": [
        "{'prod' : ui_prod, 'quantity' : ui_quant, 'amount': record[ui_prod]['price'] * ui_quant}"
      ],
      "execution_count": 40,
      "outputs": [
        {
          "output_type": "execute_result",
          "data": {
            "text/plain": [
              "{'amount': 104, 'prod': '102', 'quantity': 2}"
            ]
          },
          "metadata": {},
          "execution_count": 40
        }
      ]
    },
    {
      "cell_type": "markdown",
      "metadata": {
        "id": "XytHpY2svRDe"
      },
      "source": [
        "###**Sales JSON:**"
      ]
    },
    {
      "cell_type": "code",
      "metadata": {
        "id": "AwnERmehmefs"
      },
      "source": [
        "sales = {1 : {'prod' : ui_prod, 'quantity' : ui_quant, 'amount': record[ui_prod]['price'] * ui_quant},\n",
        "         2 : {'prod' : ui_prod, 'quantity' : ui_quant, 'amount': record[ui_prod]['price'] * ui_quant}}"
      ],
      "execution_count": 41,
      "outputs": []
    },
    {
      "cell_type": "code",
      "metadata": {
        "id": "vbl8Xa2mm58N"
      },
      "source": [
        "sale = json.dumps(sales)"
      ],
      "execution_count": 42,
      "outputs": []
    },
    {
      "cell_type": "code",
      "metadata": {
        "colab": {
          "base_uri": "https://localhost:8080/",
          "height": 35
        },
        "id": "JZMJ8VXevbXX",
        "outputId": "f6ca6f16-ceff-44a7-bfc0-f070459ec1f4"
      },
      "source": [
        "sale"
      ],
      "execution_count": 43,
      "outputs": [
        {
          "output_type": "execute_result",
          "data": {
            "application/vnd.google.colaboratory.intrinsic+json": {
              "type": "string"
            },
            "text/plain": [
              "'{\"1\": {\"prod\": \"102\", \"quantity\": 2, \"amount\": 104}, \"2\": {\"prod\": \"102\", \"quantity\": 2, \"amount\": 104}}'"
            ]
          },
          "metadata": {},
          "execution_count": 43
        }
      ]
    }
  ]
}