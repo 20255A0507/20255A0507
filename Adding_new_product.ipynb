{
  "nbformat": 4,
  "nbformat_minor": 0,
  "metadata": {
    "colab": {
      "name": "Adding_new_product.ipynb",
      "provenance": [],
      "authorship_tag": "ABX9TyNRO+DoxoiMwR/5+a/yhkWb",
      "include_colab_link": true
    },
    "kernelspec": {
      "name": "python3",
      "display_name": "Python 3"
    },
    "language_info": {
      "name": "python"
    }
  },
  "cells": [
    {
      "cell_type": "markdown",
      "metadata": {
        "id": "view-in-github",
        "colab_type": "text"
      },
      "source": [
        "<a href=\"https://colab.research.google.com/github/20255A0507/JSON-based-Inventory-Management-System/blob/main/Adding_new_product.ipynb\" target=\"_parent\"><img src=\"https://colab.research.google.com/assets/colab-badge.svg\" alt=\"Open In Colab\"/></a>"
      ]
    },
    {
      "cell_type": "markdown",
      "metadata": {
        "id": "5j50_Igavwyv"
      },
      "source": [
        "###**Reading records from Inventory:**"
      ]
    },
    {
      "cell_type": "code",
      "metadata": {
        "id": "f1gNiFpYnYDQ"
      },
      "source": [
        "import json\n",
        "fd = open(\"record.json\",'r')\n",
        "r = fd.read()\n",
        "fd.close()\n",
        "\n",
        "record = json.loads(r)"
      ],
      "execution_count": 4,
      "outputs": []
    },
    {
      "cell_type": "code",
      "metadata": {
        "colab": {
          "base_uri": "https://localhost:8080/"
        },
        "id": "I6YC7Pp9n9vG",
        "outputId": "e877fa0a-23fe-4937-8e9a-55a505cab28d"
      },
      "source": [
        "record"
      ],
      "execution_count": 5,
      "outputs": [
        {
          "output_type": "execute_result",
          "data": {
            "text/plain": [
              "{'101': {'name': 'colgate', 'price': 120, 'quantity': 147},\n",
              " '102': {'name': 'mazza', 'price': 52, 'quantity': 200},\n",
              " '103': {'name': 'dairy milk', 'price': 10, 'quantity': 300},\n",
              " '104': {'name': 'bingo', 'price': 5, 'quantity': 450},\n",
              " '105': {'name': 'fair lovely', 'price': 74, 'quantity': 150},\n",
              " '106': {'name': 'All-out', 'price': 68, 'quantity': 210},\n",
              " '107': {'name': 'badam milk', 'price': 25, 'quantity': 180},\n",
              " '108': {'name': 'choco cake', 'price': 34, 'quantity': 500},\n",
              " '109': {'name': 'kinder joy', 'price': 35, 'quantity': 345},\n",
              " '110': {'name': 'gems', 'price': 30, 'quantity': 75}}"
            ]
          },
          "metadata": {},
          "execution_count": 5
        }
      ]
    },
    {
      "cell_type": "markdown",
      "metadata": {
        "id": "gtgm7-cJoFXB"
      },
      "source": [
        "###**Adding new Products in inventory:**"
      ]
    },
    {
      "cell_type": "code",
      "metadata": {
        "colab": {
          "base_uri": "https://localhost:8080/"
        },
        "id": "t8nhcwtBoDjQ",
        "outputId": "f9d4ea46-f1bf-4f6c-c682-6b22e17fe0e1"
      },
      "source": [
        "prod_id = str(input(\"Enter product id:\"))\n",
        "name = str(input(\"Enter name:\"))\n",
        "price = int(input(\"Enter price:\"))\n",
        "quantity = int(input(\"Enter quantity:\"))\n",
        "\n",
        "record[prod_id] = {'name': name, 'price': price, 'quantity': quantity}\n",
        "\n",
        "js = json.dumps(record)\n",
        "\n",
        "fd = open(\"record.json\",'w')\n",
        "fd.write(js)\n",
        "fd.close()"
      ],
      "execution_count": 19,
      "outputs": [
        {
          "name": "stdout",
          "output_type": "stream",
          "text": [
            "Enter product id:111\n",
            "Enter name:dark fantasy\n",
            "Enter price:87\n",
            "Enter quantity:100\n"
          ]
        }
      ]
    },
    {
      "cell_type": "code",
      "metadata": {
        "colab": {
          "base_uri": "https://localhost:8080/"
        },
        "id": "cNoJ3hA_orTi",
        "outputId": "5fce0561-be1d-4c01-98bf-5667e38cdcb1"
      },
      "source": [
        "record"
      ],
      "execution_count": 20,
      "outputs": [
        {
          "output_type": "execute_result",
          "data": {
            "text/plain": [
              "{'101': {'name': 'colgate', 'price': 120, 'quantity': 147},\n",
              " '102': {'name': 'mazza', 'price': 52, 'quantity': 200},\n",
              " '103': {'name': 'dairy milk', 'price': 10, 'quantity': 300},\n",
              " '104': {'name': 'bingo', 'price': 5, 'quantity': 450},\n",
              " '105': {'name': 'fair lovely', 'price': 74, 'quantity': 150},\n",
              " '106': {'name': 'All-out', 'price': 68, 'quantity': 210},\n",
              " '107': {'name': 'badam milk', 'price': 25, 'quantity': 180},\n",
              " '108': {'name': 'choco cake', 'price': 34, 'quantity': 500},\n",
              " '109': {'name': 'kinder joy', 'price': 35, 'quantity': 345},\n",
              " '110': {'name': 'gems', 'price': 30, 'quantity': 75},\n",
              " '111': {'name': 'dark fantasy', 'price': 87, 'quantity': 100}}"
            ]
          },
          "metadata": {},
          "execution_count": 20
        }
      ]
    },
    {
      "cell_type": "markdown",
      "metadata": {
        "id": "NmJBJH3FvvFY"
      },
      "source": [
        ""
      ]
    }
  ]
}